{
 "cells": [
  {
   "cell_type": "code",
   "execution_count": 4,
   "id": "ee2935cd",
   "metadata": {},
   "outputs": [
    {
     "name": "stdout",
     "output_type": "stream",
     "text": [
      "zsh:1: no matches found: python-jose[cryptography]\n"
     ]
    }
   ],
   "source": [
    "!pip install fastapi \"uvicorn[standard]\" sqlmodel python-jose[cryptography] passlib python-multipart pydantic requests langchain openai langgraph\n",
    "\n",
    "\n"
   ]
  }
 ],
 "metadata": {
  "kernelspec": {
   "display_name": "langchain-env",
   "language": "python",
   "name": "python3"
  },
  "language_info": {
   "codemirror_mode": {
    "name": "ipython",
    "version": 3
   },
   "file_extension": ".py",
   "mimetype": "text/x-python",
   "name": "python",
   "nbconvert_exporter": "python",
   "pygments_lexer": "ipython3",
   "version": "3.11.13"
  }
 },
 "nbformat": 4,
 "nbformat_minor": 5
}
