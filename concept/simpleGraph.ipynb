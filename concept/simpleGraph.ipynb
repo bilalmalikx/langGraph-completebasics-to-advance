{
 "cells": [
  {
   "cell_type": "markdown",
   "id": "7e669dee",
   "metadata": {},
   "source": [
    "### build a ximple workflow and graph using langGraph"
   ]
  },
  {
   "cell_type": "code",
   "execution_count": null,
   "id": "84a80604",
   "metadata": {},
   "outputs": [],
   "source": [
    "from typing_extensions import TypedDict\n",
    "\n",
    "class State(TypedDict):\n",
    "    graph_info:str\n",
    "    \n",
    "    \n",
    "def start_play(state:State):\n",
    "    print(\"start play node has been called\")\n",
    "    return {\"graph_info\":state['graph_info'] + \" I am planning to play \" }\n",
    "def cricket_play(state:State):\n",
    "    print(\"cricket node has been called\")\n",
    "    return {\"graph_info\":state['graph_info'] + \"cricket\" }\n",
    "def badminton_play(state:State):\n",
    "    print(\"badminton node has been called\")\n",
    "    return {\"graph_info\":state['graph_info'] + \"Badminton\" }"
   ]
  },
  {
   "cell_type": "code",
   "execution_count": 15,
   "id": "b36e1588",
   "metadata": {},
   "outputs": [],
   "source": [
    "import random\n",
    "from typing import Literal\n",
    "\n",
    "def random_play(state: State) -> Literal['cricket_play', 'badminton_play']:\n",
    "    if random.random() > 0.5:\n",
    "        return 'cricket_play'\n",
    "    else:\n",
    "        return 'badminton_play'\n",
    "\n"
   ]
  },
  {
   "cell_type": "code",
   "execution_count": 16,
   "id": "c7e311ac",
   "metadata": {},
   "outputs": [
    {
     "data": {
      "image/png": "[encoded data removed]",
      "text/plain": [
       "<IPython.core.display.Image object>"
      ]
     },
     "metadata": {},
     "output_type": "display_data"
    }
   ],
   "source": [
    "from IPython.display import Image, display\n",
    "from langgraph.graph import StateGraph, START, END\n",
    "\n",
    "# Build graph\n",
    "graph = StateGraph(State)\n",
    "\n",
    "# Adding the nodes\n",
    "graph.add_node(\"start_play\", start_play)\n",
    "graph.add_node(\"cricket_play\", cricket_play)\n",
    "graph.add_node(\"badminton_play\", badminton_play)\n",
    "\n",
    "# Define flow\n",
    "graph.add_edge(START, \"start_play\")\n",
    "graph.add_conditional_edges(\"start_play\", random_play)\n",
    "graph.add_edge(\"cricket_play\", END)\n",
    "graph.add_edge(\"badminton_play\", END)\n",
    "\n",
    "# Visualize the graph\n",
    "graph_builder = graph.compile()\n",
    "display(Image(graph_builder.get_graph().draw_mermaid_png()))\n"
   ]
  },
  {
   "cell_type": "code",
   "execution_count": null,
   "id": "54379bd0",
   "metadata": {},
   "outputs": [
    {
     "name": "stdout",
     "output_type": "stream",
     "text": [
      "start play node has been called\n",
      "badminton node has been called\n"
     ]
    },
    {
     "data": {
      "text/plain": [
       "{'graph_info': 'my name is bilal siddiquei am planning to playBadminton'}"
      ]
     },
     "execution_count": 25,
     "metadata": {},
     "output_type": "execute_result"
    }
   ],
   "source": []
  }
 ],
 "metadata": {
  "kernelspec": {
   "display_name": "langchain-env",
   "language": "python",
   "name": "python3"
  },
  "language_info": {
   "codemirror_mode": {
    "name": "ipython",
    "version": 3
   },
   "file_extension": ".py",
   "mimetype": "text/x-python",
   "name": "python",
   "nbconvert_exporter": "python",
   "pygments_lexer": "ipython3",
   "version": "3.11.13"
  }
 },
 "nbformat": 4,
 "nbformat_minor": 5
}
