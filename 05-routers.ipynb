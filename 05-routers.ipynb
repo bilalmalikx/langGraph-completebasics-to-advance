{
 "cells": [
  {
   "cell_type": "code",
   "execution_count": null,
   "id": "37271b63",
   "metadata": {},
   "outputs": [],
   "source": []
  },
  {
   "cell_type": "code",
   "execution_count": 1,
   "id": "ca242661",
   "metadata": {},
   "outputs": [
    {
     "ename": "ImportError",
     "evalue": "cannot import name 'SimpleRouterChain' from 'langchain.chains' (/opt/miniconda3/envs/langchain-env/lib/python3.11/site-packages/langchain/chains/__init__.py)",
     "output_type": "error",
     "traceback": [
      "\u001b[31m---------------------------------------------------------------------------\u001b[39m",
      "\u001b[31mImportError\u001b[39m                               Traceback (most recent call last)",
      "\u001b[36mCell\u001b[39m\u001b[36m \u001b[39m\u001b[32mIn[1]\u001b[39m\u001b[32m, line 3\u001b[39m\n\u001b[32m      1\u001b[39m \u001b[38;5;28;01mfrom\u001b[39;00m\u001b[38;5;250m \u001b[39m\u001b[34;01mlangchain\u001b[39;00m\u001b[34;01m.\u001b[39;00m\u001b[34;01mchat_models\u001b[39;00m\u001b[38;5;250m \u001b[39m\u001b[38;5;28;01mimport\u001b[39;00m ChatOpenAI\n\u001b[32m      2\u001b[39m \u001b[38;5;28;01mfrom\u001b[39;00m\u001b[38;5;250m \u001b[39m\u001b[34;01mlangchain\u001b[39;00m\u001b[34;01m.\u001b[39;00m\u001b[34;01mprompts\u001b[39;00m\u001b[38;5;250m \u001b[39m\u001b[38;5;28;01mimport\u001b[39;00m PromptTemplate\n\u001b[32m----> \u001b[39m\u001b[32m3\u001b[39m \u001b[38;5;28;01mfrom\u001b[39;00m\u001b[38;5;250m \u001b[39m\u001b[34;01mlangchain\u001b[39;00m\u001b[34;01m.\u001b[39;00m\u001b[34;01mchains\u001b[39;00m\u001b[38;5;250m \u001b[39m\u001b[38;5;28;01mimport\u001b[39;00m LLMChain, MultiRouteChain, SimpleRouterChain\n\u001b[32m      5\u001b[39m \u001b[38;5;66;03m# Step 1: Create LLM\u001b[39;00m\n\u001b[32m      6\u001b[39m llm = ChatOpenAI(model_name=\u001b[33m\"\u001b[39m\u001b[33mgpt-4\u001b[39m\u001b[33m\"\u001b[39m, temperature=\u001b[32m0\u001b[39m)\n",
      "\u001b[31mImportError\u001b[39m: cannot import name 'SimpleRouterChain' from 'langchain.chains' (/opt/miniconda3/envs/langchain-env/lib/python3.11/site-packages/langchain/chains/__init__.py)"
     ]
    }
   ],
   "source": [
    "from langchain.chat_models import ChatOpenAI\n",
    "from langchain.prompts import PromptTemplate\n",
    "from langchain.chains import LLMChain, MultiRouteChain, SimpleRouterChain\n",
    "\n",
    "# Step 1: Create LLM\n",
    "llm = ChatOpenAI(model_name=\"gpt-4\", temperature=0)\n",
    "\n",
    "# Step 2: Destination chains\n",
    "python_prompt = PromptTemplate(input_variables=[\"input\"], template=\"You are a Python tutor. Answer: {input}\")\n",
    "python_chain = LLMChain(llm=llm, prompt=python_prompt)\n",
    "\n",
    "js_prompt = PromptTemplate(input_variables=[\"input\"], template=\"You are a JavaScript tutor. Answer: {input}\")\n",
    "js_chain = LLMChain(llm=llm, prompt=js_prompt)\n",
    "\n",
    "general_prompt = PromptTemplate(input_variables=[\"input\"], template=\"You are a general coding tutor. Answer: {input}\")\n",
    "general_chain = LLMChain(llm=llm, prompt=general_prompt)\n",
    "\n",
    "# Step 3: Router logic (simple version)\n",
    "def router(input_text):\n",
    "    if \"python\" in input_text.lower():\n",
    "        return python_chain\n",
    "    elif \"javascript\" in input_text.lower():\n",
    "        return js_chain\n",
    "    else:\n",
    "        return general_chain\n",
    "\n",
    "# Step 4: Use router\n",
    "user_input = \"How do I create a list in Python?\"\n",
    "selected_chain = router(user_input)\n",
    "response = selected_chain.run(input=user_input)\n",
    "\n",
    "print(\"Router Output:\", response)\n"
   ]
  }
 ],
 "metadata": {
  "kernelspec": {
   "display_name": "langchain-env",
   "language": "python",
   "name": "python3"
  },
  "language_info": {
   "codemirror_mode": {
    "name": "ipython",
    "version": 3
   },
   "file_extension": ".py",
   "mimetype": "text/x-python",
   "name": "python",
   "nbconvert_exporter": "python",
   "pygments_lexer": "ipython3",
   "version": "3.11.13"
  }
 },
 "nbformat": 4,
 "nbformat_minor": 5
}
