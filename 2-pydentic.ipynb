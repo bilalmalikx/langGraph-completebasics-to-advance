{
 "cells": [
  {
   "cell_type": "code",
   "execution_count": 12,
   "id": "c4f819b7",
   "metadata": {},
   "outputs": [
    {
     "data": {
      "text/plain": [
       "{'name': 'hello'}"
      ]
     },
     "execution_count": 12,
     "metadata": {},
     "output_type": "execute_result"
    }
   ],
   "source": [
    "from langgraph.graph import StateGraph,START,END\n",
    "from pydantic import BaseModel\n",
    "\n",
    "class State(BaseModel):\n",
    "    name:str\n",
    "    \n",
    "def example_node(state:State):\n",
    "    return {\"name\":\"hello\"}\n",
    "\n",
    "\n",
    "graph = StateGraph(State)\n",
    "graph.add_node(\"example_node\",example_node)\n",
    "\n",
    "graph.add_edge(START,\"example_node\")\n",
    "graph.add_edge(\"example_node\",END)\n",
    "\n",
    "graph=graph.compile()\n",
    "\n",
    "graph.invoke({\"name\":\"bilal\"})"
   ]
  },
  {
   "cell_type": "code",
   "execution_count": 13,
   "id": "adcc4735",
   "metadata": {},
   "outputs": [
    {
     "name": "stdout",
     "output_type": "stream",
     "text": [
      "30\n"
     ]
    }
   ],
   "source": [
    "from pydantic import BaseModel\n",
    "\n",
    "class User(BaseModel):\n",
    "    name: str\n",
    "    age: int\n",
    "\n",
    "user = User(name=\"Bilal\", age=\"30\")  # It will convert \"30\" to int\n",
    "print(user.age)  # 30\n"
   ]
  },
  {
   "cell_type": "code",
   "execution_count": 14,
   "id": "51625e10",
   "metadata": {},
   "outputs": [
    {
     "name": "stdout",
     "output_type": "stream",
     "text": [
      "Hello Bilal, you are 25 years old.\n"
     ]
    },
    {
     "data": {
      "text/plain": [
       "{'name': 'Bilal', 'age': 25}"
      ]
     },
     "execution_count": 14,
     "metadata": {},
     "output_type": "execute_result"
    }
   ],
   "source": [
    "from pydantic import BaseModel\n",
    "from langgraph.graph import StateGraph, END\n",
    "\n",
    "# Define state\n",
    "class GraphState(BaseModel):\n",
    "    name: str\n",
    "    age: int\n",
    "\n",
    "# Define a function (node)\n",
    "def greet_user(state: GraphState):\n",
    "    print(f\"Hello {state.name}, you are {state.age} years old.\")\n",
    "    return state\n",
    "\n",
    "# Create LangGraph\n",
    "builder = StateGraph(GraphState)\n",
    "builder.add_node(\"greet\", greet_user)\n",
    "builder.set_entry_point(\"greet\")\n",
    "builder.set_finish_point(\"greet\")\n",
    "graph = builder.compile()\n",
    "\n",
    "# Execute the graph with initial state\n",
    "graph.invoke(GraphState(name=\"Bilal\", age=25))\n"
   ]
  }
 ],
 "metadata": {
  "kernelspec": {
   "display_name": "langchain-env",
   "language": "python",
   "name": "python3"
  },
  "language_info": {
   "codemirror_mode": {
    "name": "ipython",
    "version": 3
   },
   "file_extension": ".py",
   "mimetype": "text/x-python",
   "name": "python",
   "nbconvert_exporter": "python",
   "pygments_lexer": "ipython3",
   "version": "3.11.13"
  }
 },
 "nbformat": 4,
 "nbformat_minor": 5
}
