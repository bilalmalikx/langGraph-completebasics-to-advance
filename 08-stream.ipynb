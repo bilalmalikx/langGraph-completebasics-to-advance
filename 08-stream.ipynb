{
 "cells": [
  {
   "cell_type": "code",
   "execution_count": 2,
   "id": "de1fedf2",
   "metadata": {},
   "outputs": [
    {
     "name": "stdout",
     "output_type": "stream",
     "text": [
      "🍽 Starting order processing (sync)...\n",
      "\n",
      "📢 Update: Received order for Pasta, Garlic Bread\n",
      "📢 Update: Washing ingredients\n",
      "📢 Update: Chopping vegetables\n",
      "📢 Update: Cooking on stove\n",
      "📢 Update: Plating the dish\n",
      "📢 Update: Order ready to serve!\n",
      "\n",
      "✅ Order completed!\n"
     ]
    }
   ],
   "source": [
    "# sync_stream_example.py\n",
    "\n",
    "import time\n",
    "\n",
    "def kitchen_order_stream(order_items):\n",
    "    steps = [\n",
    "        f\"Received order for {', '.join(order_items)}\",\n",
    "        \"Washing ingredients\",\n",
    "        \"Chopping vegetables\",\n",
    "        \"Cooking on stove\",\n",
    "        \"Plating the dish\",\n",
    "        \"Order ready to serve!\"\n",
    "    ]\n",
    "    for step in steps:\n",
    "        time.sleep(1)  # Simulate processing time\n",
    "        yield step  # Streaming chunk\n",
    "\n",
    "\n",
    "def main():\n",
    "    order = [\"Pasta\", \"Garlic Bread\"]\n",
    "\n",
    "    print(\"🍽 Starting order processing (sync)...\\n\")\n",
    "    for status in kitchen_order_stream(order):\n",
    "        print(f\"📢 Update: {status}\")\n",
    "\n",
    "    print(\"\\n✅ Order completed!\")\n",
    "\n",
    "\n",
    "if __name__ == \"__main__\":\n",
    "    main()\n"
   ]
  }
 ],
 "metadata": {
  "kernelspec": {
   "display_name": "langchain-env",
   "language": "python",
   "name": "python3"
  },
  "language_info": {
   "codemirror_mode": {
    "name": "ipython",
    "version": 3
   },
   "file_extension": ".py",
   "mimetype": "text/x-python",
   "name": "python",
   "nbconvert_exporter": "python",
   "pygments_lexer": "ipython3",
   "version": "3.11.13"
  }
 },
 "nbformat": 4,
 "nbformat_minor": 5
}
