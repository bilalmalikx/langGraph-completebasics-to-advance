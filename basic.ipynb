{
 "cells": [
  {
   "cell_type": "code",
   "execution_count": null,
   "id": "ef353a38",
   "metadata": {},
   "outputs": [],
   "source": [
    "langchain\n",
    "langchain_community\n",
    "langgraph\n",
    "langchain_core"
   ]
  }
 ],
 "metadata": {
  "language_info": {
   "name": "python"
  }
 },
 "nbformat": 4,
 "nbformat_minor": 5
}
