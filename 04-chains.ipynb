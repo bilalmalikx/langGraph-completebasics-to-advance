{
 "cells": [
  {
   "cell_type": "code",
   "execution_count": 3,
   "id": "89dbd16e",
   "metadata": {},
   "outputs": [
    {
     "name": "stderr",
     "output_type": "stream",
     "text": [
      "/var/folders/k9/8k7t8wj134b178f9sp5yz6sw0000gn/T/ipykernel_77161/3677766469.py:13: LangChainDeprecationWarning: The class `ChatOpenAI` was deprecated in LangChain 0.0.10 and will be removed in 1.0. An updated version of the class exists in the :class:`~langchain-openai package and should be used instead. To use it run `pip install -U :class:`~langchain-openai` and import as `from :class:`~langchain_openai import ChatOpenAI``.\n",
      "  chat = ChatOpenAI()  # You can also specify model_name=\"gpt-4\", temperature=0.7, etc.\n"
     ]
    },
    {
     "name": "stdout",
     "output_type": "stream",
     "text": [
      "\n",
      "🧠 LLM Response:\n",
      "That's great! Python is a popular and versatile programming language. To get started with learning Python, you can check out online tutorials, enroll in online courses on platforms like Codecademy, Coursera, or Udemy, or read Python programming books. Additionally, practicing coding by working on small projects and solving coding challenges can help you improve your skills. If you have any specific questions or need resources to start learning Python, feel free to ask me!\n"
     ]
    }
   ],
   "source": [
    "from dotenv import load_dotenv\n",
    "import os\n",
    "from langchain.chat_models import ChatOpenAI\n",
    "from langchain_core.messages import AIMessage, HumanMessage, SystemMessage\n",
    "\n",
    "# Load environment variables\n",
    "load_dotenv()\n",
    "\n",
    "# Set API keys\n",
    "os.environ[\"OPENAI_API_KEY\"] = os.getenv(\"OPENAI_API_KEY\")\n",
    "\n",
    "# Create chat model instance\n",
    "chat = ChatOpenAI()  # You can also specify model_name=\"gpt-4\", temperature=0.7, etc.\n",
    "\n",
    "# Initial message history\n",
    "messages = [\n",
    "    SystemMessage(content=\"You are a helpful assistant.\"),\n",
    "    AIMessage(content=\"Please tell me how can I help\", name=\"LLMModel\"),\n",
    "    HumanMessage(content=\"I want to learn coding\", name=\"bilal\"),\n",
    "    AIMessage(content=\"Which programming language do you want to learn?\", name=\"LLMModel\")\n",
    "]\n",
    "\n",
    "# Add a new human message (simulate conversation step)\n",
    "messages.append(HumanMessage(content=\"Python\"))\n",
    "\n",
    "# 🔥 Invoke the model with the message history\n",
    "response = chat.invoke(messages)\n",
    "\n",
    "# Print the response from the model\n",
    "print(\"\\n🧠 LLM Response:\")\n",
    "print(response.content)\n"
   ]
  }
 ],
 "metadata": {
  "kernelspec": {
   "display_name": "langchain-env",
   "language": "python",
   "name": "python3"
  },
  "language_info": {
   "codemirror_mode": {
    "name": "ipython",
    "version": 3
   },
   "file_extension": ".py",
   "mimetype": "text/x-python",
   "name": "python",
   "nbconvert_exporter": "python",
   "pygments_lexer": "ipython3",
   "version": "3.11.13"
  }
 },
 "nbformat": 4,
 "nbformat_minor": 5
}
