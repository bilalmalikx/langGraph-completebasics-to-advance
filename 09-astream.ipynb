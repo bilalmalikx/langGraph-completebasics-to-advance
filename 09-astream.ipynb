{
 "cells": [
  {
   "cell_type": "code",
   "execution_count": 3,
   "id": "ab104d01",
   "metadata": {},
   "outputs": [
    {
     "name": "stdout",
     "output_type": "stream",
     "text": [
      "🍽 Starting async order processing...\n",
      "\n",
      "📢 Update: [Order 101] Received order for Pasta, Garlic Bread\n",
      "📢 Update: [Order 102] Received order for Burger, Fries\n",
      "📢 Update: [Order 101] Washing ingredients\n",
      "📢 Update: [Order 102] Washing ingredients\n",
      "📢 Update: [Order 101] Chopping vegetables\n",
      "📢 Update: [Order 102] Chopping vegetables\n",
      "📢 Update: [Order 101] Cooking on stove\n",
      "📢 Update: [Order 102] Cooking on stove\n",
      "📢 Update: [Order 101] Plating the dish\n",
      "📢 Update: [Order 102] Plating the dish\n",
      "📢 Update: [Order 101] Order ready to serve!\n",
      "📢 Update: [Order 102] Order ready to serve!\n",
      "\n",
      "✅ All orders completed!\n"
     ]
    }
   ],
   "source": [
    "# async_astream_example.py\n",
    "\n",
    "import asyncio\n",
    "import nest_asyncio\n",
    "\n",
    "# Allow asyncio.run() in notebooks or running loops\n",
    "nest_asyncio.apply()\n",
    "\n",
    "async def kitchen_order_astream(order_items, order_id):\n",
    "    steps = [\n",
    "        f\"[Order {order_id}] Received order for {', '.join(order_items)}\",\n",
    "        f\"[Order {order_id}] Washing ingredients\",\n",
    "        f\"[Order {order_id}] Chopping vegetables\",\n",
    "        f\"[Order {order_id}] Cooking on stove\",\n",
    "        f\"[Order {order_id}] Plating the dish\",\n",
    "        f\"[Order {order_id}] Order ready to serve!\"\n",
    "    ]\n",
    "    for step in steps:\n",
    "        await asyncio.sleep(1)  # Simulate async processing\n",
    "        yield step\n",
    "\n",
    "async def main():\n",
    "    orders = [\n",
    "        ([\"Pasta\", \"Garlic Bread\"], 101),\n",
    "        ([\"Burger\", \"Fries\"], 102)\n",
    "    ]\n",
    "\n",
    "    print(\"🍽 Starting async order processing...\\n\")\n",
    "\n",
    "    async def process(order_items, order_id):\n",
    "        async for status in kitchen_order_astream(order_items, order_id):\n",
    "            print(f\"📢 Update: {status}\")\n",
    "\n",
    "    await asyncio.gather(*(process(items, oid) for items, oid in orders))\n",
    "\n",
    "    print(\"\\n✅ All orders completed!\")\n",
    "\n",
    "if __name__ == \"__main__\":\n",
    "    asyncio.run(main())\n"
   ]
  }
 ],
 "metadata": {
  "kernelspec": {
   "display_name": "langchain-env",
   "language": "python",
   "name": "python3"
  },
  "language_info": {
   "codemirror_mode": {
    "name": "ipython",
    "version": 3
   },
   "file_extension": ".py",
   "mimetype": "text/x-python",
   "name": "python",
   "nbconvert_exporter": "python",
   "pygments_lexer": "ipython3",
   "version": "3.11.13"
  }
 },
 "nbformat": 4,
 "nbformat_minor": 5
}
