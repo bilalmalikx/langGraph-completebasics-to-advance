{
 "cells": [
  {
   "cell_type": "code",
   "execution_count": 28,
   "id": "8809b32d",
   "metadata": {},
   "outputs": [
    {
     "name": "stdout",
     "output_type": "stream",
     "text": [
      "arxiv\n"
     ]
    }
   ],
   "source": [
    "from langchain_community.tools import ArxivQueryRun,WikipediaQueryRun\n",
    "from langchain_community.utilities import WikipediaAPIWrapper,ArxivAPIWrapper\n",
    "\n",
    "api_wrapper_arxiv=ArxivAPIWrapper(top_k_results=2,doc_content_chars_max=500)\n",
    "arxiv=ArxivQueryRun(api_wrapper=api_wrapper_arxiv)\n",
    "print(arxiv.name)"
   ]
  },
  {
   "cell_type": "code",
   "execution_count": 29,
   "id": "e44e019b",
   "metadata": {},
   "outputs": [
    {
     "data": {
      "text/plain": [
       "'wikipedia'"
      ]
     },
     "execution_count": 29,
     "metadata": {},
     "output_type": "execute_result"
    }
   ],
   "source": [
    "api_wrapper_wiki=WikipediaAPIWrapper(top_k_results=1,doc_content_chars_max=500)\n",
    "wiki=WikipediaQueryRun(api_wrapper=api_wrapper_wiki)\n",
    "wiki.name"
   ]
  },
  {
   "cell_type": "code",
   "execution_count": 30,
   "id": "eaf74a9f",
   "metadata": {},
   "outputs": [
    {
     "data": {
      "text/plain": [
       "'Page: Machine learning\\nSummary: Machine learning (ML) is a field of study in artificial intelligence concerned with the development and study of statistical algorithms that can learn from data and generalise to unseen data, and thus perform tasks without explicit instructions. Within a subdiscipline in machine learning, advances in the field of deep learning have allowed neural networks, a class of statistical algorithms, to surpass many previous machine learning approaches in performance.\\nML fi'"
      ]
     },
     "execution_count": 30,
     "metadata": {},
     "output_type": "execute_result"
    }
   ],
   "source": [
    "wiki.invoke(\"what is machine learning\")"
   ]
  },
  {
   "cell_type": "code",
   "execution_count": 39,
   "id": "a9326761",
   "metadata": {},
   "outputs": [],
   "source": [
    "from dotenv import load_dotenv\n",
    "load_dotenv()\n",
    "\n",
    "import os\n",
    "\n",
    "os.environ['TAVILY_API_KEY']=os.getenv(\"TAVILY_API_KEY\")\n",
    "os.environ['OPENAI_API_KEY'] = os.getenv(\"OPENAI_API_KEY\")"
   ]
  },
  {
   "cell_type": "code",
   "execution_count": 38,
   "id": "379672f7",
   "metadata": {},
   "outputs": [
    {
     "data": {
      "text/plain": [
       "[{'title': 'TODAY function - Microsoft Support',\n",
       "  'url': 'https://support.microsoft.com/en-us/office/today-function-5eb3078d-a82c-4736-8930-2f51a028fdd9',\n",
       "  'content': 'Formula\\n\\nDescription\\n\\nResult\\n\\n=TODAY()\\n\\nReturns the current date.\\n\\n12/1/2011\\n\\n=TODAY()+5\\n\\nReturns the current date plus 5 days. For example, if the current date is 1/1/2012, this formula returns 1/6/2012.\\n\\n12/6/2011\\n\\n=DATEVALUE(\"1/1/2030\")-TODAY()\\n\\nReturns the number of days between the current date and 1/1/2030. Note that cell A4 must be formatted as General or Number for the result to display correctly.\\n\\n1/31/1918\\n\\n=DAY(TODAY())\\n\\nReturns the current day of the month (1 - 31).\\n\\n1 [...] | Formula | Description | Result |\\n| --- | --- | --- |\\n| =TODAY() | Returns the current date. | 12/1/2011 |\\n| =TODAY()+5 | Returns the current date plus 5 days. For example, if the current date is 1/1/2012, this formula returns 1/6/2012. | 12/6/2011 |\\n| =DATEVALUE(\"1/1/2030\")-TODAY() | Returns the number of days between the current date and 1/1/2030. Note that cell A4 must be formatted as General or Number for the result to display correctly. | 1/31/1918 | [...] Copy the example data in the following table, and paste it in cell A1 of a new Excel worksheet. For formulas to show results, select them, press F2, and then press Enter. If you need to, you can adjust the column widths to see all the data.',\n",
       "  'score': 0.40910333},\n",
       " {'title': \"SQL Query to Compare Results With Today's Date | GeeksforGeeks\",\n",
       "  'url': 'https://www.geeksforgeeks.org/sql-query-to-compare-results-with-todays-date/',\n",
       "  'content': \"In SQL, comparing results with today's date is a powerful tool for filtering data, managing schedules, including managing tasks, appointments and performing time-sensitive analysis. By using SQL's `GETDATE()` function we can easily perform this comparison. The ability to filter records based on date criteria allows for effective data analysis, report generation, and database management.\\n\\n`GETDATE()` [...] The SQL query for comparing dates involves selecting the columns we want from our `demo_table`and using the `CASE()` function to perform the comparison:\\n\\n`demo_table`\\n`CASE()`\\n\\nQuery:\\n\\nOutput\\n\\nCompare-result-with-todays-date\\n\\nExplanation:\\n\\nThe output from the SQL query provides a clear categorization of each record in the `demo_table`based on its date in relation to today’s date.\\n\\n`demo_table`\\n`CASE()`\\n\\n## Conclusion [...] By using SQL’s `GETDATE()` or `CURRENT_DATE()`functions in combination with the `CASE()` function, we can easily compare dates in our database with today's date. This approach allows for effective filtering and classification of data, making it an invaluable tool for managing time-sensitive data in SQL. Whether we are using SQL Server, MySQL, or another SQL-compatible database, mastering date comparisons will enhance our ability to work with temporal data efficiently.\",\n",
       "  'score': 0.37120554},\n",
       " {'title': \"sql - Comparing results with today's date? - Stack Overflow\",\n",
       "  'url': 'https://stackoverflow.com/questions/10395459/comparing-results-with-todays-date',\n",
       "  'content': 'If you have a table with just a stored date (no time) and want to get those by \"now\", then you can do this:\\n\\n`SELECT  FROM tbl WHERE DATEDIFF(d, yourdate, GETDATE())=0`\\n\\nThis results in rows which day difference is 0 (so today).\\n\\nYvesR\\'s user avatar\\n\\n## 2 Comments\\n\\nuser avatar\\n\\nAdd a comment\\n\\nFor me the query that is working, if I want to compare with DrawDate for example is:\\n\\n`CAST(DrawDate AS DATE) = CAST (GETDATE() as DATE)`\\n\\nThis is comparing results with today\\'s date.\\n\\nor the whole query: [...] `select getdate()\\n--2012-05-01 12:06:51.413\\nselect dateadd(millisecond, -3, cast(cast(getdate()+1 as date) as datetime))\\n--2012-05-01 23:59:59.997\\nselect cast(getdate() as date)\\n--2012-05-01\\ncreate table test (id int)\\nselect  from sysobjects where crdate between cast(getdate() as date) and dateadd(millisecond, -3, cast(cast(getdate()+1 as date) as datetime))\\n--resultset contains only objects created today\\ndrop table test`\\nitayw\\'s user avatar\\n\\n## 1 Comment\\n\\nuser avatar\\n\\nAdd a comment [...] `select getdate()\\n--2012-05-01 12:06:51.413\\nselect cast(getdate() as date)\\n--2012-05-01\\n--we\\'re using sysobjects for the example\\ncreate table test (id int)\\nselect  from sysobjects where cast(crdate as date) = cast(getdate() as date)\\n--resultset contains only objects created today\\ndrop table test`\\n\\nI hope this helps.',\n",
       "  'score': 0.28224364},\n",
       " {'title': \"What Is Today's Date? - Inch Calculator\",\n",
       "  'url': 'https://www.inchcalculator.com/what-is-todays-date/',\n",
       "  'content': \"You can also calculate the current date using spreadsheet software such as Google Sheets or Microsoft Excel using the TODAY() function.\\n\\n=TODAY()\\n\\nSimply enter this formula into any empty cell to get today's date.\\nFor instance, if the current date is November 1st, then the result might look like this:\\n\\nGraphic showing the formula for Google Sheets or Microsoft Excel to calculate the current date.\\n\\n## Calendar, Clock, and Brain Icon Similar Time Resources\\n\\n## References\\n\\nInch Calculator logo [...] | DECEMBER | | | | | | |\\n| --- | --- | --- | --- | --- | --- | --- |\\n| Sun | Mon | Tue | Wed | Thu | Fri | Sat |\\n|  | 1 | 2 | 3 | 4 | 5 | 6 |\\n| 7 | 8 | 9 | 10 | 11 | 12 | 13 |\\n| 14 | 15 | 16 | 17 | 18 | 19 | 20 |\\n| 21 | 22 | 23 | 24 | 25 | 26 | 27 |\\n| 28 | 29 | 30 | 31 |  |  |  |\\n\\nYou can also use our online calendar to print monthly calendars, see holidays, and view any month or year.\\n\\n## How To Calculate Today's Date Using Excel or Sheets [...] icon for a calendar with one day highlighted red\\nicon for a calendar with one day highlighted red\\n\\n## Today's Date Is:\\n\\nToday, August 5th, is day 217 of 365 total days in 2025.\\n\\n## What is Today's Date in Numbers?\\n\\nToday's date in numbers is:\\n\\nIt's also common to see dates represented using numbers separated by slashes.\",\n",
       "  'score': 0.25426397},\n",
       " {'title': 'August 2025 Calendar',\n",
       "  'url': 'https://www.calendar-365.com/calendar/2025/August.html',\n",
       "  'content': '| August 10, 2025 | 6:01 | 20:01 | 14h 0m |\\n| August 11, 2025 | 6:02 | 20:00 | 13h 58m |\\n| August 12, 2025 | 6:03 | 19:58 | 13h 55m |\\n| August 13, 2025 | 6:04 | 19:57 | 13h 53m |\\n| August 14, 2025 | 6:05 | 19:56 | 13h 51m |\\n| August 15, 2025 | 6:06 | 19:54 | 13h 48m |\\n| August 16, 2025 | 6:07 | 19:53 | 13h 46m |\\n| August 17, 2025 | 6:08 | 19:52 | 13h 44m |\\n| August 18, 2025 | 6:09 | 19:50 | 13h 41m |\\n| August 19, 2025 | 6:10 | 19:49 | 13h 39m |\\n| August 20, 2025 | 6:11 | 19:47 | 13h 36m | [...] | August 21, 2025 | 6:12 | 19:46 | 13h 34m |\\n| August 22, 2025 | 6:13 | 19:44 | 13h 31m |\\n| August 23, 2025 | 6:14 | 19:43 | 13h 29m |\\n| August 24, 2025 | 6:15 | 19:41 | 13h 26m |\\n| August 25, 2025 | 6:16 | 19:40 | 13h 24m |\\n| August 26, 2025 | 6:17 | 19:38 | 13h 21m |\\n| August 27, 2025 | 6:18 | 19:37 | 13h 19m |\\n| August 28, 2025 | 6:19 | 19:35 | 13h 16m |\\n| August 29, 2025 | 6:20 | 19:33 | 13h 13m |\\n| August 30, 2025 | 6:21 | 19:32 | 13h 11m |\\n| August 31, 2025 | 6:22 | 19:30 | 13h 8m | [...] | Date | Sunrise | Sunset | Length of day |\\n| --- | --- | --- | --- |\\n| August 1, 2025 | 5:52 | 20:12 | 14h 20m |\\n| August 2, 2025 | 5:53 | 20:11 | 14h 18m |\\n| August 3, 2025 | 5:54 | 20:09 | 14h 15m |\\n| August 4, 2025 | 5:55 | 20:08 | 14h 13m |\\n| August 5, 2025 | 5:56 | 20:07 | 14h 11m |\\n| August 6, 2025 | 5:57 | 20:06 | 14h 9m |\\n| August 7, 2025 | 5:58 | 20:05 | 14h 7m |\\n| August 8, 2025 | 5:59 | 20:04 | 14h 5m |\\n| August 9, 2025 | 6:00 | 20:02 | 14h 2m |',\n",
       "  'score': 0.1171172}]"
      ]
     },
     "execution_count": 38,
     "metadata": {},
     "output_type": "execute_result"
    }
   ],
   "source": [
    "from langchain_community.tools.tavily_search import TavilySearchResults\n",
    "\n",
    "tavily = TavilySearchResults()\n",
    "tavily.invoke(\"provide me the result of today\")"
   ]
  },
  {
   "cell_type": "code",
   "execution_count": 37,
   "id": "be0123b2",
   "metadata": {},
   "outputs": [],
   "source": [
    "tools = [arxiv,wiki,tavily]\n"
   ]
  },
  {
   "cell_type": "code",
   "execution_count": 52,
   "id": "bb2fc4ed",
   "metadata": {},
   "outputs": [
    {
     "data": {
      "text/plain": [
       "AIMessage(content='', additional_kwargs={'tool_calls': [{'id': 'call_eT1DkBOejfcQ4uDVKJ4kHVFK', 'function': {'arguments': '{\"query\":\"recent AI news\"}', 'name': 'tavily_search_results_json'}, 'type': 'function'}], 'refusal': None}, response_metadata={'token_usage': {'completion_tokens': 20, 'prompt_tokens': 216, 'total_tokens': 236, 'completion_tokens_details': {'accepted_prediction_tokens': 0, 'audio_tokens': 0, 'reasoning_tokens': 0, 'rejected_prediction_tokens': 0}, 'prompt_tokens_details': {'audio_tokens': 0, 'cached_tokens': 0}}, 'model_name': 'gpt-4o-mini-2024-07-18', 'system_fingerprint': 'fp_34a54ae93c', 'id': 'chatcmpl-C253Pzr3QYv4FZUSBJkdGPFrA1GYp', 'service_tier': 'default', 'finish_reason': 'tool_calls', 'logprobs': None}, id='run--55614068-59c1-48af-9791-e0403edaece0-0', tool_calls=[{'name': 'tavily_search_results_json', 'args': {'query': 'recent AI news'}, 'id': 'call_eT1DkBOejfcQ4uDVKJ4kHVFK', 'type': 'tool_call'}], usage_metadata={'input_tokens': 216, 'output_tokens': 20, 'total_tokens': 236, 'input_token_details': {'audio': 0, 'cache_read': 0}, 'output_token_details': {'audio': 0, 'reasoning': 0}})"
      ]
     },
     "execution_count": 52,
     "metadata": {},
     "output_type": "execute_result"
    }
   ],
   "source": [
    "tools = [arxiv, wiki, tavily]\n",
    "\n",
    "from langchain_openai import ChatOpenAI\n",
    "from langchain_core.tools import tool\n",
    "from pprint import pprint\n",
    "from langchain_core.messages import AIMessage, HumanMessage\n",
    "\n",
    "llm = ChatOpenAI(model=\"gpt-4o-mini\")  # or \"gpt-4\" if you prefer\n",
    "\n",
    "\n",
    "llms_with_tools = llm.bind_tools(tools)\n",
    "llms_with_tools.invoke([HumanMessage(content=f\"what is the recent ai news\")])"
   ]
  },
  {
   "cell_type": "code",
   "execution_count": 53,
   "id": "325a0544",
   "metadata": {},
   "outputs": [],
   "source": [
    "from typing_extensions import TypedDict\n",
    "from langchain_core.messages import AnyMessage\n",
    "from typing import Annotated\n",
    "from langgraph.graph.message import add_messages\n",
    "\n",
    "class State(TypedDict):\n",
    "    messages:Annotated[list[AnyMessage],add_messages]"
   ]
  },
  {
   "cell_type": "code",
   "execution_count": 60,
   "id": "4001b8b6",
   "metadata": {},
   "outputs": [],
   "source": [
    "from IPython.display import Image, display\n",
    "from langgraph.graph import StateGraph, START, END\n",
    "from langgraph.prebuilt import ToolNode\n",
    "from langgraph.prebuilt import tools_condition\n",
    "\n",
    "\n",
    "# node defination\n",
    "# Node definition\n",
    "def tool_calling_llm(state: State):\n",
    "    response = llms_with_tools.invoke(state[\"messages\"])\n",
    "    return {\"messages\": state[\"messages\"] + [response]}  # append to existing messages\n"
   ]
  },
  {
   "cell_type": "code",
   "execution_count": null,
   "id": "964e8104",
   "metadata": {},
   "outputs": [
    {
     "data": {
      "image/png": "[encoded data removed]",
      "text/plain": [
       "<IPython.core.display.Image object>"
      ]
     },
     "metadata": {},
     "output_type": "display_data"
    },
    {
     "name": "stdout",
     "output_type": "stream",
     "text": [
      "================================\u001b[1m Human Message \u001b[0m=================================\n",
      "\n",
      "1706.03762\n"
     ]
    }
   ],
   "source": [
    "# Build graph\n",
    "builder = StateGraph(State)\n",
    "builder.add_node(\"tool_calling_llm\", tool_calling_llm)\n",
    "builder.add_node(\"tools\", ToolNode(tools))\n",
    "\n",
    "builder.add_edge(START, \"tool_calling_llm\")\n",
    "builder.add_conditional_edges(\n",
    "    \"tool_calling_llm\",\n",
    "    tools_condition\n",
    ")\n",
    "builder.add_edge(\"tools\", END)\n",
    "\n",
    "graph = builder.compile()\n",
    "\n",
    "display(Image(graph.get_graph().draw_mermaid_png()))\n",
    "\n"
   ]
  },
  {
   "cell_type": "code",
   "execution_count": 62,
   "id": "6d7a5905",
   "metadata": {},
   "outputs": [
    {
     "name": "stdout",
     "output_type": "stream",
     "text": [
      "================================\u001b[1m Human Message \u001b[0m=================================\n",
      "\n",
      "provide me the info about bilal siddique\n"
     ]
    }
   ],
   "source": [
    "message=graph.invoke({\"messages\":HumanMessage(content=\"provide me the info about bilal siddique\")})\n",
    "for m in message['messages']:\n",
    "    m.pretty_print()"
   ]
  }
 ],
 "metadata": {
  "kernelspec": {
   "display_name": "langchain-env",
   "language": "python",
   "name": "python3"
  },
  "language_info": {
   "codemirror_mode": {
    "name": "ipython",
    "version": 3
   },
   "file_extension": ".py",
   "mimetype": "text/x-python",
   "name": "python",
   "nbconvert_exporter": "python",
   "pygments_lexer": "ipython3",
   "version": "3.11.13"
  }
 },
 "nbformat": 4,
 "nbformat_minor": 5
}
