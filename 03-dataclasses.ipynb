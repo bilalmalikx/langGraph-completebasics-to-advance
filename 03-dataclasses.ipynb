{
 "cells": [
  {
   "cell_type": "code",
   "execution_count": 1,
   "id": "747d3bc9",
   "metadata": {},
   "outputs": [],
   "source": [
    "from dataclasses import dataclass\n",
    "from typing import Optional\n",
    "\n",
    "@dataclass\n",
    "class QAState:\n",
    "    question: Optional[str] = None\n",
    "    answer: Optional[str] = None\n"
   ]
  },
  {
   "cell_type": "code",
   "execution_count": 2,
   "id": "f5ec9a89",
   "metadata": {},
   "outputs": [],
   "source": [
    "def answer_question(state: QAState) -> QAState:\n",
    "    question = state.question\n",
    "    state.answer = \"Answering: \" + question\n",
    "    return state\n"
   ]
  },
  {
   "cell_type": "code",
   "execution_count": 6,
   "id": "1275242b",
   "metadata": {},
   "outputs": [
    {
     "name": "stdout",
     "output_type": "stream",
     "text": [
      "Hello Bilal, you're at step 1\n",
      "Final state: {'user_name': 'Bilal', 'step': 2}\n"
     ]
    }
   ],
   "source": [
    "from dataclasses import dataclass\n",
    "from langgraph.graph import StateGraph, END\n",
    "\n",
    "# 1️⃣ Define the State\n",
    "@dataclass\n",
    "class MyState:\n",
    "    user_name: str\n",
    "    step: int\n",
    "\n",
    "# 2️⃣ Node function\n",
    "def greet(state: MyState) -> MyState:\n",
    "    print(f\"Hello {state.user_name}, you're at step {state.step}\")\n",
    "    return MyState(user_name=state.user_name, step=state.step + 1)\n",
    "\n",
    "# 3️⃣ Create graph\n",
    "graph_builder = StateGraph(MyState)\n",
    "graph_builder.add_node(\"greet_user\", greet)\n",
    "\n",
    "# 4️⃣ Set entry and end\n",
    "graph_builder.set_entry_point(\"greet_user\")\n",
    "graph_builder.set_finish_point(\"greet_user\")\n",
    "\n",
    "# 5️⃣ Compile the graph\n",
    "graph = graph_builder.compile()\n",
    "\n",
    "# 6️⃣ Call the graph with initial state\n",
    "final_state = graph.invoke(MyState(user_name=\"Bilal\", step=1))\n",
    "print(\"Final state:\", final_state)\n"
   ]
  }
 ],
 "metadata": {
  "kernelspec": {
   "display_name": "langchain-env",
   "language": "python",
   "name": "python3"
  },
  "language_info": {
   "codemirror_mode": {
    "name": "ipython",
    "version": 3
   },
   "file_extension": ".py",
   "mimetype": "text/x-python",
   "name": "python",
   "nbconvert_exporter": "python",
   "pygments_lexer": "ipython3",
   "version": "3.11.13"
  }
 },
 "nbformat": 4,
 "nbformat_minor": 5
}
