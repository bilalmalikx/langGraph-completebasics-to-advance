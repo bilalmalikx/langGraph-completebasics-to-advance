{
 "cells": [
  {
   "cell_type": "code",
   "execution_count": 1,
   "id": "408f63d2",
   "metadata": {},
   "outputs": [],
   "source": [
    "import os\n",
    "from dotenv import load_dotenv\n",
    "from langchain_openai import ChatOpenAI\n",
    "\n",
    "load_dotenv()\n",
    "\n",
    "\n",
    "# Create Chat Model\n",
    "llm = ChatOpenAI(model=\"gpt-4o-mini\", temperature=0)\n"
   ]
  },
  {
   "cell_type": "code",
   "execution_count": 3,
   "id": "123c90a2",
   "metadata": {},
   "outputs": [
    {
     "data": {
      "text/plain": [
       "[<function __main__.add(a: int, b: int) -> int>,\n",
       " <function __main__.multiplay(a: int, b: int) -> int>,\n",
       " <function __main__.divide(a: int, b: int) -> int>]"
      ]
     },
     "execution_count": 3,
     "metadata": {},
     "output_type": "execute_result"
    }
   ],
   "source": [
    "# custom tools\n",
    "\n",
    "\n",
    "def multiplay(a: int, b: int) -> int:\n",
    "    \"\"\"Multiplay a and b\n",
    "\n",
    "    Args\n",
    "        a: first init\n",
    "        b: second init\n",
    "    \"\"\"\n",
    "    return a * b\n",
    "\n",
    "def add(a: int, b: int) -> int:\n",
    "    \"\"\"add a and b\n",
    "\n",
    "    Args\n",
    "        a: first init\n",
    "        b: second init\n",
    "    \"\"\"\n",
    "    return a + b\n",
    "\n",
    "def divide(a: int, b: int) -> int:\n",
    "    \"\"\"divide a and b\n",
    "\n",
    "    Args\n",
    "        a: first init\n",
    "        b: second init\n",
    "    \"\"\"\n",
    "    return a / b\n",
    "\n",
    "tools = [add,multiplay,divide]\n",
    "tools"
   ]
  },
  {
   "cell_type": "code",
   "execution_count": null,
   "id": "76e9a4cb",
   "metadata": {},
   "outputs": [
    {
     "data": {
      "text/plain": [
       "RunnableBinding(bound=ChatOpenAI(client=<openai.resources.chat.completions.completions.Completions object at 0x10de2cd70>, async_client=<openai.resources.chat.completions.completions.AsyncCompletions object at 0x10de2d7f0>, root_client=<openai.OpenAI object at 0x10d7f9e80>, root_async_client=<openai.AsyncOpenAI object at 0x10de2d550>, model_name='gpt-4o-mini', temperature=0.0, model_kwargs={}, openai_api_key=SecretStr('**********')), kwargs={'tools': [{'type': 'function', 'function': {'name': 'add', 'description': 'add a and b Args\\n    a: first init\\n    b: second init', 'parameters': {'properties': {'a': {'type': 'integer'}, 'b': {'type': 'integer'}}, 'required': ['a', 'b'], 'type': 'object'}}}, {'type': 'function', 'function': {'name': 'multiplay', 'description': 'Multiplay a and b Args\\n    a: first init\\n    b: second init', 'parameters': {'properties': {'a': {'type': 'integer'}, 'b': {'type': 'integer'}}, 'required': ['a', 'b'], 'type': 'object'}}}, {'type': 'function', 'function': {'name': 'divide', 'description': 'divide a and b Args\\n    a: first init\\n    b: second init', 'parameters': {'properties': {'a': {'type': 'integer'}, 'b': {'type': 'integer'}}, 'required': ['a', 'b'], 'type': 'object'}}}]}, config={}, config_factories=[])"
      ]
     },
     "execution_count": 5,
     "metadata": {},
     "output_type": "execute_result"
    }
   ],
   "source": [
    "llm_with_tools=llm.bind_tools(tools)\n",
    "llm"
   ]
  },
  {
   "cell_type": "code",
   "execution_count": 31,
   "id": "190b2df8",
   "metadata": {},
   "outputs": [
    {
     "data": {
      "image/png": "[encoded data removed]",
      "text/plain": [
       "<IPython.core.display.Image object>"
      ]
     },
     "metadata": {},
     "output_type": "display_data"
    }
   ],
   "source": [
    "# workflow\n",
    "\n",
    "from langgraph.graph import START, END, StateGraph\n",
    "from langgraph.graph import MessagesState\n",
    "from langgraph.checkpoint.memory import MemorySaver\n",
    "from langgraph.prebuilt import tools_condition, ToolNode\n",
    "from langchain_core.messages import HumanMessage, SystemMessage, AIMessage\n",
    "from IPython.display import display, Image\n",
    "\n",
    "\n",
    "sys = SystemMessage(\n",
    "    content=\"You are a helpfull assistant task with porforming arthmetic on a section\"\n",
    ")\n",
    "\n",
    "\n",
    "# node\n",
    "def assistance(state: MessagesState):\n",
    "    return {\"message\": llm_with_tools.invoke([sys] + state[\"messages\"])}\n",
    "\n",
    "\n",
    "graph = StateGraph(MessagesState)\n",
    "\n",
    "graph.add_node(\"assistance\", assistance)\n",
    "graph.add_node(\"tools\", ToolNode(tools))\n",
    "\n",
    "\n",
    "# Define the edges\n",
    "graph.add_edge(START, \"assistance\")\n",
    "graph.add_conditional_edges(\"assistance\", tools_condition)\n",
    "graph.add_edge(\"tools\", \"assistance\")\n",
    "\n",
    "memory = MemorySaver()\n",
    "\n",
    "graph = graph.compile(interrupt_before=[\"assistance\"], checkpointer=memory)\n",
    "\n",
    "display(Image(graph.get_graph().draw_mermaid_png()))"
   ]
  },
  {
   "cell_type": "code",
   "execution_count": 32,
   "id": "1c62add9",
   "metadata": {},
   "outputs": [],
   "source": [
    "thread = {\"configurable\": {\"thread_id\": \"123\"}}\n",
    "initial_input = {\"messages\": [HumanMessage(content=\"multiply 2 and 3\")]}\n"
   ]
  },
  {
   "cell_type": "code",
   "execution_count": 33,
   "id": "7464c9ce",
   "metadata": {},
   "outputs": [
    {
     "name": "stdout",
     "output_type": "stream",
     "text": [
      "================================\u001b[1m Human Message \u001b[0m=================================\n",
      "\n",
      "multiply 2 and 3\n"
     ]
    }
   ],
   "source": [
    "# Corrected thread and input\n",
    "thread = {\"configurable\": {\"thread_id\": \"123\"}}\n",
    "initial_input = {\"messages\": [HumanMessage(content=\"multiply 2 and 3\")]}\n",
    "\n",
    "# Stream from the graph\n",
    "for event in graph.stream(initial_input, thread, stream_mode=\"values\"):\n",
    "    event['messages'][-1].pretty_print()\n"
   ]
  }
 ],
 "metadata": {
  "kernelspec": {
   "display_name": "base",
   "language": "python",
   "name": "python3"
  },
  "language_info": {
   "codemirror_mode": {
    "name": "ipython",
    "version": 3
   },
   "file_extension": ".py",
   "mimetype": "text/x-python",
   "name": "python",
   "nbconvert_exporter": "python",
   "pygments_lexer": "ipython3",
   "version": "3.13.5"
  }
 },
 "nbformat": 4,
 "nbformat_minor": 5
}
